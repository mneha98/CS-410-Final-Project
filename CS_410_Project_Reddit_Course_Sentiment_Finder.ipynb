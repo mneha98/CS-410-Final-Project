{
  "nbformat": 4,
  "nbformat_minor": 0,
  "metadata": {
    "colab": {
      "provenance": []
    },
    "kernelspec": {
      "name": "python3",
      "display_name": "Python 3"
    },
    "language_info": {
      "name": "python"
    }
  },
  "cells": [
    {
      "cell_type": "code",
      "execution_count": 2,
      "metadata": {
        "colab": {
          "base_uri": "https://localhost:8080/"
        },
        "id": "9Axn6xQBqFyi",
        "outputId": "54c8202f-6e1b-424b-b6b3-a923b10db91a"
      },
      "outputs": [
        {
          "output_type": "stream",
          "name": "stdout",
          "text": [
            "Looking in indexes: https://pypi.org/simple, https://us-python.pkg.dev/colab-wheels/public/simple/\n",
            "Collecting praw\n",
            "  Downloading praw-7.6.1-py3-none-any.whl (188 kB)\n",
            "\u001b[K     |████████████████████████████████| 188 kB 17.2 MB/s \n",
            "\u001b[?25hCollecting update-checker>=0.18\n",
            "  Downloading update_checker-0.18.0-py3-none-any.whl (7.0 kB)\n",
            "Collecting prawcore<3,>=2.1\n",
            "  Downloading prawcore-2.3.0-py3-none-any.whl (16 kB)\n",
            "Collecting websocket-client>=0.54.0\n",
            "  Downloading websocket_client-1.4.2-py3-none-any.whl (55 kB)\n",
            "\u001b[K     |████████████████████████████████| 55 kB 2.0 MB/s \n",
            "\u001b[?25hRequirement already satisfied: requests<3.0,>=2.6.0 in /usr/local/lib/python3.8/dist-packages (from prawcore<3,>=2.1->praw) (2.23.0)\n",
            "Requirement already satisfied: chardet<4,>=3.0.2 in /usr/local/lib/python3.8/dist-packages (from requests<3.0,>=2.6.0->prawcore<3,>=2.1->praw) (3.0.4)\n",
            "Requirement already satisfied: certifi>=2017.4.17 in /usr/local/lib/python3.8/dist-packages (from requests<3.0,>=2.6.0->prawcore<3,>=2.1->praw) (2022.9.24)\n",
            "Requirement already satisfied: idna<3,>=2.5 in /usr/local/lib/python3.8/dist-packages (from requests<3.0,>=2.6.0->prawcore<3,>=2.1->praw) (2.10)\n",
            "Requirement already satisfied: urllib3!=1.25.0,!=1.25.1,<1.26,>=1.21.1 in /usr/local/lib/python3.8/dist-packages (from requests<3.0,>=2.6.0->prawcore<3,>=2.1->praw) (1.24.3)\n",
            "Installing collected packages: websocket-client, update-checker, prawcore, praw\n",
            "Successfully installed praw-7.6.1 prawcore-2.3.0 update-checker-0.18.0 websocket-client-1.4.2\n"
          ]
        }
      ],
      "source": [
        "# Install Python Reddit API Wrapper\n",
        "!pip install praw"
      ]
    },
    {
      "cell_type": "code",
      "source": [
        "# Install trandformers package for sentiment analysis\n",
        "\n",
        "!pip install -q transformers"
      ],
      "metadata": {
        "id": "rdH2LsJkuMqA"
      },
      "execution_count": null,
      "outputs": []
    },
    {
      "cell_type": "code",
      "source": [
        "import praw\n",
        "import pprint\n",
        "import re\n",
        "from transformers import pipeline"
      ],
      "metadata": {
        "id": "ERsjuSfSqMxV"
      },
      "execution_count": 71,
      "outputs": []
    },
    {
      "cell_type": "code",
      "source": [
        "# Credentials for API\n",
        "# input your client id ans secret here following directions in documentation\n",
        "\n",
        "reddit = praw.Reddit(client_id='cient_id',\n",
        "                     client_secret='client_secret',\n",
        "                     user_agent='cs410_useragent')"
      ],
      "metadata": {
        "id": "xFjgttx0vYLN"
      },
      "execution_count": 4,
      "outputs": []
    },
    {
      "cell_type": "code",
      "source": [
        "# Dictionary of courses talked about on reddit and their respective posts\n",
        "course_post_dict = {}\n",
        "# Choose pretrained sentiment analysis model\n",
        "sentiment_pipeline = pipeline(model=\"finiteautomata/bertweet-base-sentiment-analysis\")"
      ],
      "metadata": {
        "colab": {
          "base_uri": "https://localhost:8080/"
        },
        "id": "nsnjpGYnFCST",
        "outputId": "37b2b00c-3f15-4f49-a3b4-ab44bd98d9bf"
      },
      "execution_count": 87,
      "outputs": [
        {
          "output_type": "stream",
          "name": "stderr",
          "text": [
            "emoji is not installed, thus not converting emoticons or emojis into text. Install emoji: pip3 install emoji==0.6.0\n"
          ]
        }
      ]
    },
    {
      "cell_type": "code",
      "source": [
        "# Use API to get all posts \n",
        "\n",
        "def getPostsForCourse(course):\n",
        "  if course.lower() in course_post_dict:\n",
        "    return\n",
        "\n",
        "  posts = []\n",
        "  # remove leading and trailing white spaces\n",
        "  course = course.strip()\n",
        "\n",
        "  # can change time_filter to year/month to get more recent results\n",
        "  for i in UIUC.search(query=course, time_filter=\"all\", limit=5):\n",
        "    posts.append(i)\n",
        "\n",
        "  course_post_dict[course.lower()] = posts"
      ],
      "metadata": {
        "id": "FINxdlJCFYMy"
      },
      "execution_count": 126,
      "outputs": []
    },
    {
      "cell_type": "code",
      "source": [
        "#for each post, collect the top level comments (replies to comments not included)\n",
        "\n",
        "def getCommentsForPosts(posts):\n",
        "  comments = [] \n",
        "\n",
        "  for post in posts:\n",
        "    for comment in post.comments:\n",
        "      if ('[deleted]' not in comment.body):\n",
        "        comments.append(comment.body)\n",
        "  \n",
        "  return comments"
      ],
      "metadata": {
        "id": "-ihm_hnGJWDH"
      },
      "execution_count": 106,
      "outputs": []
    },
    {
      "cell_type": "code",
      "source": [
        "# clean the comments - remove unique characters, links, usernames, truncate comment if too long\n",
        "\n",
        "def cleanText(x):\n",
        "    # model already lowercases words\n",
        "    # remove unicode characters\n",
        "    x = x.encode('ascii', 'ignore').decode()\n",
        "    x = re.sub(r'https*\\S+', ' ', x)\n",
        "    x = re.sub(r'http*\\S+', ' ', x)\n",
        "    # then use regex to remove @ symbols and hashtags\n",
        "    #x = re.sub(r'@\\S', '', x)\n",
        "    #x = re.sub(r'#\\S+', ' ', x)\n",
        "    x = re.sub(r'\\'\\w+', '', x)\n",
        "    #x = re.sub('[%s]' % re.escape(string.punctuation), ' ', x)\n",
        "    x = re.sub(r'\\w*\\d+\\w*', '', x)\n",
        "    x = re.sub(r'\\s{2,}', ' ', x)\n",
        "    x = re.sub(r'\\s[^\\w\\s]\\s', '', x)\n",
        "    x = x[:200]\n",
        "    return x"
      ],
      "metadata": {
        "id": "SqBWR9ayry-0"
      },
      "execution_count": 175,
      "outputs": []
    },
    {
      "cell_type": "code",
      "source": [
        "# Get the sentiment and score for each comment\n",
        "\n",
        "def getSentiment(comments):\n",
        "  cleaned = []\n",
        "  for c in comments:\n",
        "    cleaned.append(cleanText(c))\n",
        "  \n",
        "  res = sentiment_pipeline(cleaned)\n",
        "  \n",
        "  # sort comments in descending order by highest sentiment score\n",
        "  labels = [sub['label'] for sub in res]\n",
        "  scores = [sub['score'] for sub in res]\n",
        "  zipped = zip(comments, labels, scores)\n",
        "  sorted_zipped = sorted(zipped, key=lambda x: x[2], reverse=True)\n",
        "\n",
        "  return sorted_zipped"
      ],
      "metadata": {
        "id": "ln2VyMH9JwQF"
      },
      "execution_count": 168,
      "outputs": []
    },
    {
      "cell_type": "code",
      "source": [
        "# display top 5 comments with highest sentiment score\n",
        "\n",
        "def OneCourseView(zippedlist):\n",
        "\n",
        "  unzipped = list(zip(*zippedlist))\n",
        "  i = 0\n",
        "  print(\"TOP 5 POSTS WITH HIGHEST SENTIMENT SCORES \\n\\n\")\n",
        "  while (i < min(5, len(unzipped[0]))):\n",
        "    if (unzipped[1][i] == 'NEG'):\n",
        "      print('\\033[91m' + unzipped[1][i] + ' ' + str(round(unzipped[2][i], 2)) + '\\n' + unzipped[0][i])\n",
        "    elif (unzipped[1][i] == 'POS'):\n",
        "      print('\\033[92m' + unzipped[1][i] + ' ' + str(round(unzipped[2][i], 2)) + '\\n' + unzipped[0][i])\n",
        "    else:\n",
        "      print('\\033[94m'+ unzipped[1][i] + ' ' + str(round(unzipped[2][i], 2)) + '\\n' + unzipped[0][i])\n",
        "    print('\\n')\n",
        "    i = i+1"
      ],
      "metadata": {
        "id": "rrqHkCLe5Xab"
      },
      "execution_count": 119,
      "outputs": []
    },
    {
      "cell_type": "code",
      "source": [
        "# display graph showing number of Positive, Negative and Neutral comments for the two subjects to be compared\n",
        "\n",
        "def TwoCourseView(a, b, name_a, name_b):\n",
        "\n",
        "  X = ['POS','NEU','NEG']\n",
        "\n",
        "  unzipped_a = list(zip(*a))\n",
        "  unzipped_b = list(zip(*b))\n",
        "\n",
        "  Y_s1 = [unzipped_a[1].count('POS'), unzipped_a[1].count('NEU'), unzipped_a[1].count('NEG')]\n",
        "  Y_s2 = [unzipped_b[1].count('POS'), unzipped_b[1].count('NEU'), unzipped_b[1].count('NEG')]\n",
        "    \n",
        "  X_axis = np.arange(len(X))\n",
        "    \n",
        "  plt.bar(X_axis - 0.2, Y_s1, 0.4, label = name_a)\n",
        "  plt.bar(X_axis + 0.2, Y_s2, 0.4, label = name_b)\n",
        "    \n",
        "  plt.xticks(X_axis, X)\n",
        "  plt.xlabel(\"Sentiment\")\n",
        "  plt.ylabel(\"Number of Comments\")\n",
        "  plt.title(\"Number of Positive, Negative and Neutral comments for each course\")\n",
        "  plt.legend()\n",
        "  plt.show()\n",
        "\n"
      ],
      "metadata": {
        "id": "celE9-5huF5t"
      },
      "execution_count": 186,
      "outputs": []
    },
    {
      "cell_type": "code",
      "source": [
        "# MAIN CELL\n",
        "# RUN ALL CELLS BEFORE and then run this cell to interact\n",
        "import warnings\n",
        "warnings.filterwarnings('ignore')\n",
        "\n",
        "option = input (\"1. Learn about a course \\n2. Compare two courses\\n\")\n",
        "if (option == '1'):\n",
        "  c = input(\"Should I Take: \")\n",
        "  c = c.lower()\n",
        "  getPostsForCourse(c)\n",
        "  com = getCommentsForPosts(course_post_dict[c])\n",
        "  sen = getSentiment(com)\n",
        "  OneCourseView(sen)\n",
        "\n",
        "elif (option == '2'):\n",
        "  a = input(\"Enter first course: \")\n",
        "  a = a.lower()\n",
        "  b = input(\"Enter second course: \")\n",
        "  b = b.lower()\n",
        "  getPostsForCourse(a)\n",
        "  res_a = getSentiment(getCommentsForPosts(course_post_dict[a]))\n",
        "  getPostsForCourse(b)\n",
        "  res_b = getSentiment(getCommentsForPosts(course_post_dict[b]))\n",
        "  TwoCourseView(res_a, res_b, a, b)\n",
        "\n",
        "else:\n",
        "  print(\"Invalid Option. Please run this cell and try again.\")\n",
        "\n"
      ],
      "metadata": {
        "colab": {
          "base_uri": "https://localhost:8080/",
          "height": 382
        },
        "id": "bT84wsEKuMjB",
        "outputId": "9998fd91-051f-45b4-9b82-a2a87fc0a0c4"
      },
      "execution_count": 185,
      "outputs": [
        {
          "name": "stdout",
          "output_type": "stream",
          "text": [
            "1. Learn about a course \n",
            "2. Compare two courses\n",
            "2\n",
            "Enter first course: kin 104\n",
            "Enter second course: ling 100\n"
          ]
        },
        {
          "output_type": "display_data",
          "data": {
            "text/plain": [
              "<Figure size 432x288 with 1 Axes>"
            ],
            "image/png": "[encoded data removed]"
          },
          "metadata": {
            "needs_background": "light"
          }
        }
      ]
    }
  ]
}